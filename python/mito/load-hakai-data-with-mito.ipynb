{
 "cells": [
  {
   "cell_type": "code",
   "execution_count": 1,
   "id": "a3dc02de-7843-4df5-8207-d92c94db3078",
   "metadata": {},
   "outputs": [],
   "source": [
    "from hakai_api import Client\n",
    "import pandas as pd\n",
    "import mitosheet"
   ]
  },
  {
   "cell_type": "markdown",
   "id": "2bc6ef4f",
   "metadata": {},
   "source": [
    "## Load Hakai API Credentials"
   ]
  },
  {
   "cell_type": "code",
   "execution_count": 2,
   "id": "bb3da38a-5458-4d09-a585-dfdfa959d4d1",
   "metadata": {},
   "outputs": [],
   "source": [
    "client = Client()"
   ]
  },
  {
   "cell_type": "markdown",
   "id": "fff08cd7",
   "metadata": {},
   "source": [
    "## Download data from Hakai API Database"
   ]
  },
  {
   "cell_type": "code",
   "execution_count": 3,
   "id": "ebe7ebc6-3f1e-4550-a19f-ef70cceaee89",
   "metadata": {},
   "outputs": [
    {
     "name": "stdout",
     "output_type": "stream",
     "text": [
      "Generate Query:  https://hecate.hakai.org/api/ctd/views/file/cast/data?station=QU39&start_dt>2020-01-01&start_dt<2022-06-01&limit=-1&direction_flag=d\n",
      "recieved a response\n",
      "Query suceeded\n"
     ]
    },
    {
     "data": {
      "text/html": [
       "<div>\n",
       "<style scoped>\n",
       "    .dataframe tbody tr th:only-of-type {\n",
       "        vertical-align: middle;\n",
       "    }\n",
       "\n",
       "    .dataframe tbody tr th {\n",
       "        vertical-align: top;\n",
       "    }\n",
       "\n",
       "    .dataframe thead th {\n",
       "        text-align: right;\n",
       "    }\n",
       "</style>\n",
       "<table border=\"1\" class=\"dataframe\">\n",
       "  <thead>\n",
       "    <tr style=\"text-align: right;\">\n",
       "      <th></th>\n",
       "      <th>ctd_file_pk</th>\n",
       "      <th>ctd_cast_pk</th>\n",
       "      <th>hakai_id</th>\n",
       "      <th>ctd_data_pk</th>\n",
       "      <th>filename</th>\n",
       "      <th>device_model</th>\n",
       "      <th>device_sn</th>\n",
       "      <th>device_firmware</th>\n",
       "      <th>file_processing_stage</th>\n",
       "      <th>work_area</th>\n",
       "      <th>...</th>\n",
       "      <th>cdom_ppb</th>\n",
       "      <th>cdom_ppb_flag</th>\n",
       "      <th>cdom_ppb_flag_level_1</th>\n",
       "      <th>bin_stats</th>\n",
       "      <th>cast_type</th>\n",
       "      <th>sensors_submerged</th>\n",
       "      <th>water_depth_m</th>\n",
       "      <th>soak_start</th>\n",
       "      <th>soak_end</th>\n",
       "      <th>weather</th>\n",
       "    </tr>\n",
       "  </thead>\n",
       "  <tbody>\n",
       "    <tr>\n",
       "      <th>0</th>\n",
       "      <td>7303</td>\n",
       "      <td>18520</td>\n",
       "      <td>65679_2021-11-29T18:11:15.000Z</td>\n",
       "      <td>10822541</td>\n",
       "      <td>065679_20211129_1259</td>\n",
       "      <td>RBRconcerto</td>\n",
       "      <td>65679</td>\n",
       "      <td>1.43</td>\n",
       "      <td>8_rbr_processed</td>\n",
       "      <td>QUADRA</td>\n",
       "      <td>...</td>\n",
       "      <td>None</td>\n",
       "      <td>None</td>\n",
       "      <td>2</td>\n",
       "      <td>None</td>\n",
       "      <td>Dynamic</td>\n",
       "      <td>Full</td>\n",
       "      <td>None</td>\n",
       "      <td>None</td>\n",
       "      <td>None</td>\n",
       "      <td>{'tide': None, 'sky_cover': 'lifted_fog', 'win...</td>\n",
       "    </tr>\n",
       "    <tr>\n",
       "      <th>1</th>\n",
       "      <td>7303</td>\n",
       "      <td>18520</td>\n",
       "      <td>65679_2021-11-29T18:11:15.000Z</td>\n",
       "      <td>10822604</td>\n",
       "      <td>065679_20211129_1259</td>\n",
       "      <td>RBRconcerto</td>\n",
       "      <td>65679</td>\n",
       "      <td>1.43</td>\n",
       "      <td>8_rbr_processed</td>\n",
       "      <td>QUADRA</td>\n",
       "      <td>...</td>\n",
       "      <td>None</td>\n",
       "      <td>None</td>\n",
       "      <td>2</td>\n",
       "      <td>None</td>\n",
       "      <td>Dynamic</td>\n",
       "      <td>Full</td>\n",
       "      <td>None</td>\n",
       "      <td>None</td>\n",
       "      <td>None</td>\n",
       "      <td>{'tide': None, 'sky_cover': 'lifted_fog', 'win...</td>\n",
       "    </tr>\n",
       "    <tr>\n",
       "      <th>2</th>\n",
       "      <td>6814</td>\n",
       "      <td>18778</td>\n",
       "      <td>65679_2021-05-19T18:45:03.167Z</td>\n",
       "      <td>10964728</td>\n",
       "      <td>065679_20210519_1718</td>\n",
       "      <td>RBRconcerto</td>\n",
       "      <td>65679</td>\n",
       "      <td>1.43</td>\n",
       "      <td>1_datCnv</td>\n",
       "      <td>QUADRA</td>\n",
       "      <td>...</td>\n",
       "      <td>None</td>\n",
       "      <td>None</td>\n",
       "      <td>2</td>\n",
       "      <td></td>\n",
       "      <td>Dynamic</td>\n",
       "      <td>Full</td>\n",
       "      <td>None</td>\n",
       "      <td>None</td>\n",
       "      <td>None</td>\n",
       "      <td>{'tide': None, 'sky_cover': 'partly_cloudy', '...</td>\n",
       "    </tr>\n",
       "    <tr>\n",
       "      <th>3</th>\n",
       "      <td>7303</td>\n",
       "      <td>18520</td>\n",
       "      <td>65679_2021-11-29T18:11:15.000Z</td>\n",
       "      <td>10822546</td>\n",
       "      <td>065679_20211129_1259</td>\n",
       "      <td>RBRconcerto</td>\n",
       "      <td>65679</td>\n",
       "      <td>1.43</td>\n",
       "      <td>8_rbr_processed</td>\n",
       "      <td>QUADRA</td>\n",
       "      <td>...</td>\n",
       "      <td>None</td>\n",
       "      <td>None</td>\n",
       "      <td>2</td>\n",
       "      <td>None</td>\n",
       "      <td>Dynamic</td>\n",
       "      <td>Full</td>\n",
       "      <td>None</td>\n",
       "      <td>None</td>\n",
       "      <td>None</td>\n",
       "      <td>{'tide': None, 'sky_cover': 'lifted_fog', 'win...</td>\n",
       "    </tr>\n",
       "    <tr>\n",
       "      <th>4</th>\n",
       "      <td>7303</td>\n",
       "      <td>18520</td>\n",
       "      <td>65679_2021-11-29T18:11:15.000Z</td>\n",
       "      <td>10822547</td>\n",
       "      <td>065679_20211129_1259</td>\n",
       "      <td>RBRconcerto</td>\n",
       "      <td>65679</td>\n",
       "      <td>1.43</td>\n",
       "      <td>8_rbr_processed</td>\n",
       "      <td>QUADRA</td>\n",
       "      <td>...</td>\n",
       "      <td>None</td>\n",
       "      <td>None</td>\n",
       "      <td>2</td>\n",
       "      <td>None</td>\n",
       "      <td>Dynamic</td>\n",
       "      <td>Full</td>\n",
       "      <td>None</td>\n",
       "      <td>None</td>\n",
       "      <td>None</td>\n",
       "      <td>{'tide': None, 'sky_cover': 'lifted_fog', 'win...</td>\n",
       "    </tr>\n",
       "  </tbody>\n",
       "</table>\n",
       "<p>5 rows × 118 columns</p>\n",
       "</div>"
      ],
      "text/plain": [
       "   ctd_file_pk  ctd_cast_pk                        hakai_id  ctd_data_pk  \\\n",
       "0         7303        18520  65679_2021-11-29T18:11:15.000Z     10822541   \n",
       "1         7303        18520  65679_2021-11-29T18:11:15.000Z     10822604   \n",
       "2         6814        18778  65679_2021-05-19T18:45:03.167Z     10964728   \n",
       "3         7303        18520  65679_2021-11-29T18:11:15.000Z     10822546   \n",
       "4         7303        18520  65679_2021-11-29T18:11:15.000Z     10822547   \n",
       "\n",
       "               filename device_model device_sn device_firmware  \\\n",
       "0  065679_20211129_1259  RBRconcerto     65679            1.43   \n",
       "1  065679_20211129_1259  RBRconcerto     65679            1.43   \n",
       "2  065679_20210519_1718  RBRconcerto     65679            1.43   \n",
       "3  065679_20211129_1259  RBRconcerto     65679            1.43   \n",
       "4  065679_20211129_1259  RBRconcerto     65679            1.43   \n",
       "\n",
       "  file_processing_stage work_area  ... cdom_ppb cdom_ppb_flag  \\\n",
       "0       8_rbr_processed    QUADRA  ...     None          None   \n",
       "1       8_rbr_processed    QUADRA  ...     None          None   \n",
       "2              1_datCnv    QUADRA  ...     None          None   \n",
       "3       8_rbr_processed    QUADRA  ...     None          None   \n",
       "4       8_rbr_processed    QUADRA  ...     None          None   \n",
       "\n",
       "   cdom_ppb_flag_level_1  bin_stats  cast_type  sensors_submerged  \\\n",
       "0                      2       None    Dynamic               Full   \n",
       "1                      2       None    Dynamic               Full   \n",
       "2                      2               Dynamic               Full   \n",
       "3                      2       None    Dynamic               Full   \n",
       "4                      2       None    Dynamic               Full   \n",
       "\n",
       "   water_depth_m soak_start soak_end  \\\n",
       "0           None       None     None   \n",
       "1           None       None     None   \n",
       "2           None       None     None   \n",
       "3           None       None     None   \n",
       "4           None       None     None   \n",
       "\n",
       "                                             weather  \n",
       "0  {'tide': None, 'sky_cover': 'lifted_fog', 'win...  \n",
       "1  {'tide': None, 'sky_cover': 'lifted_fog', 'win...  \n",
       "2  {'tide': None, 'sky_cover': 'partly_cloudy', '...  \n",
       "3  {'tide': None, 'sky_cover': 'lifted_fog', 'win...  \n",
       "4  {'tide': None, 'sky_cover': 'lifted_fog', 'win...  \n",
       "\n",
       "[5 rows x 118 columns]"
      ]
     },
     "execution_count": 3,
     "metadata": {},
     "output_type": "execute_result"
    }
   ],
   "source": [
    "station = \"QU39\"\n",
    "start_time = \"2020-01-01\"\n",
    "end_time = \"2022-06-01\"\n",
    "endpoint = \"ctd/views/file/cast/data\"\n",
    "filter_endpoint = f\"station={station}&start_dt>{start_time}&start_dt<{end_time}&limit=-1&direction_flag=d\"\n",
    "query = f\"{client.api_root}/{endpoint}?{filter_endpoint}\"\n",
    "\n",
    "print(\"Generate Query: \",query)\n",
    "response = client.get(query)\n",
    "print(\"recieved a response\")\n",
    "# Review if the query is working\n",
    "if response != response.status_code:\n",
    "    # Send an error if it's not working and tell us why\n",
    "    response.raise_for_status()\n",
    "print(\"Query suceeded\")\n",
    "\n",
    "# Load the data in json format to a pandas dataframe\n",
    "df = pd.DataFrame(response.json())\n",
    "df.head()"
   ]
  },
  {
   "cell_type": "markdown",
   "id": "4b756fab",
   "metadata": {},
   "source": [
    "## Review Data with Mito"
   ]
  },
  {
   "cell_type": "code",
   "execution_count": 4,
   "id": "56cd260f-3e54-4554-8f52-2cb4b2a24051",
   "metadata": {},
   "outputs": [
    {
     "data": {
      "application/vnd.jupyter.widget-view+json": {
       "model_id": "5346fafca65e4f78bc179f122118b6bc",
       "version_major": 2,
       "version_minor": 0
      },
      "text/plain": [
       "MitoWidget(analysis_data_json='{\"analysisName\": \"id-pbeyzlsmwn\", \"analysisToReplay\": {\"analysisName\": \"id-ayim…"
      ]
     },
     "execution_count": 4,
     "metadata": {},
     "output_type": "execute_result"
    }
   ],
   "source": [
    "mitosheet.sheet(df, analysis_to_replay=\"id-ayimkyhytx\")"
   ]
  },
  {
   "cell_type": "code",
   "execution_count": null,
   "id": "d6daae0f-7498-47cd-81e3-f832170b1dd6",
   "metadata": {},
   "outputs": [],
   "source": [
    "from mitosheet import *; register_analysis(\"id-ayimkyhytx\");\n",
    "    \n",
    "# Sorted start_dt in ascending order\n",
    "df = df.sort_values(by='start_dt', ascending=True, na_position='first')\n",
    "\n",
    "# Sorted depth in ascending order\n",
    "df = df.sort_values(by='depth', ascending=True, na_position='first')\n"
   ]
  },
  {
   "cell_type": "code",
   "execution_count": 14,
   "id": "8c42c3b5-0ca5-4420-b38d-f94f8642624a",
   "metadata": {},
   "outputs": [
    {
     "data": {
      "text/html": [
       "<iframe\n",
       "    scrolling=\"no\"\n",
       "    width=\"100%\"\n",
       "    height=\"545px\"\n",
       "    src=\"iframe_figures/figure_14.html\"\n",
       "    frameborder=\"0\"\n",
       "    allowfullscreen\n",
       "></iframe>\n"
      ]
     },
     "metadata": {},
     "output_type": "display_data"
    }
   ],
   "source": [
    "import plotly.express as px\n",
    "# Construct the graph and style it. Further customize your graph by editing this code.\n",
    "# See Plotly Documentation for help: https://plotly.com/python/plotly-express/\n",
    "fig = px.scatter(df, x='start_dt', y='depth', color='temperature')\n",
    "fig.update_layout(\n",
    "    title='start_dt, depth scatter plot', \n",
    "    xaxis = dict(\n",
    "        showgrid=True, \n",
    "        rangeslider = dict(\n",
    "            visible=True, \n",
    "            thickness=0.05\n",
    "        )\n",
    "    ), \n",
    "    yaxis = dict(\n",
    "        showgrid=True\n",
    "    ), \n",
    "    legend = dict(\n",
    "        orientation='v'\n",
    "    ), \n",
    "    paper_bgcolor='#FFFFFF'\n",
    ")\n",
    "fig.show(renderer=\"iframe\")"
   ]
  },
  {
   "cell_type": "code",
   "execution_count": 13,
   "id": "c8010e27-fcdc-4890-a4e1-e1cf845afab6",
   "metadata": {},
   "outputs": [
    {
     "data": {
      "text/plain": [
       "2788"
      ]
     },
     "execution_count": 13,
     "metadata": {},
     "output_type": "execute_result"
    }
   ],
   "source": [
    "len(df)"
   ]
  },
  {
   "cell_type": "code",
   "execution_count": null,
   "id": "d63a682d-4057-4b53-ae02-66d8f7fa2c49",
   "metadata": {},
   "outputs": [],
   "source": []
  }
 ],
 "metadata": {
  "kernelspec": {
   "display_name": "Python 3 (ipykernel)",
   "language": "python",
   "name": "python3"
  },
  "language_info": {
   "codemirror_mode": {
    "name": "ipython",
    "version": 3
   },
   "file_extension": ".py",
   "mimetype": "text/x-python",
   "name": "python",
   "nbconvert_exporter": "python",
   "pygments_lexer": "ipython3",
   "version": "3.9.16"
  }
 },
 "nbformat": 4,
 "nbformat_minor": 5
}
